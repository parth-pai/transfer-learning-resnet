{
  "nbformat": 4,
  "nbformat_minor": 0,
  "metadata": {
    "colab": {
      "provenance": [],
      "gpuType": "T4"
    },
    "kernelspec": {
      "name": "python3",
      "display_name": "Python 3"
    },
    "language_info": {
      "name": "python"
    },
    "accelerator": "GPU"
  },
  "cells": [
    {
      "cell_type": "code",
      "execution_count": 1,
      "metadata": {
        "id": "uAPnKKbAFlF2"
      },
      "outputs": [],
      "source": [
        "\"\"\"implement transfer learning using cifar10\"\"\"\n",
        "import tensorflow.keras as K\n",
        "import tensorflow as tf\n",
        "import numpy as np"
      ]
    },
    {
      "cell_type": "code",
      "source": [
        "def preprocess_data(X, Y):\n",
        "    \"\"\"Preprocess Data.\"\"\"\n",
        "    Y = tf.one_hot(Y, 10)\n",
        "    return (K.applications.resnet50.preprocess_input(X),\n",
        "            tf.reshape(Y, [Y.shape[0], 10]))"
      ],
      "metadata": {
        "id": "t0CJNinpFq-k"
      },
      "execution_count": 2,
      "outputs": []
    },
    {
      "cell_type": "code",
      "source": [
        "def create_model():\n",
        "    \"\"\"Create model from resnet50.\"\"\"\n",
        "    base_model = K.applications.ResNet50(\n",
        "            weights='imagenet',\n",
        "            include_top=True,\n",
        "            pooling='max')\n",
        "\n",
        "    old_input = K.Input((32, 32, 3))\n",
        "    pre = K.layers.Lambda(lambda x: tf.image.resize(x, [224, 224]))(old_input)\n",
        "    inputs = base_model(pre)\n",
        "    outputs = K.layers.Dense(10, activation='softmax')(inputs)\n",
        "    model = K.Model(old_input, outputs)\n",
        "\n",
        "    return model, base_model"
      ],
      "metadata": {
        "id": "aPlJPMIZFtyC"
      },
      "execution_count": 3,
      "outputs": []
    },
    {
      "cell_type": "code",
      "source": [
        "(X_train, Y_train), (X_valid, Y_valid) = K.datasets.cifar10.load_data()\n",
        "\n",
        "X_train, Y_train = preprocess_data(X_train, Y_train)\n",
        "X_valid, Y_valid = preprocess_data(X_valid, Y_valid)\n",
        "\n",
        "model, base_model = create_model()\n",
        "model.compile(optimizer=K.optimizers.Adam(1e-5),\n",
        "              loss=K.losses.CategoricalCrossentropy(),\n",
        "              metrics=['accuracy'])\n",
        "model.summary()\n",
        "model.fit(x=X_train, y=Y_train, validation_data=(X_valid, Y_valid),\n",
        "          batch_size=64, epochs=2)\n",
        "base_model.trainable = False\n",
        "model.compile(optimizer=K.optimizers.Adam(),\n",
        "              loss=K.losses.CategoricalCrossentropy(),\n",
        "              metrics=['accuracy'])\n",
        "model.summary()\n",
        "model.fit(x=X_train, y=Y_train, validation_data=(X_valid, Y_valid),\n",
        "          batch_size=64, epochs=4)\n",
        "model.save('cifar10.h5')"
      ],
      "metadata": {
        "id": "RPPpfnixFvUi",
        "colab": {
          "base_uri": "https://localhost:8080/"
        },
        "outputId": "0f9c1e5a-a363-4a44-b24c-0b75dc56aa33"
      },
      "execution_count": 4,
      "outputs": [
        {
          "output_type": "stream",
          "name": "stdout",
          "text": [
            "Downloading data from https://www.cs.toronto.edu/~kriz/cifar-10-python.tar.gz\n",
            "170498071/170498071 [==============================] - 5s 0us/step\n",
            "Downloading data from https://storage.googleapis.com/tensorflow/keras-applications/resnet/resnet50_weights_tf_dim_ordering_tf_kernels.h5\n",
            "102967424/102967424 [==============================] - 0s 0us/step\n",
            "Model: \"model\"\n",
            "_________________________________________________________________\n",
            " Layer (type)                Output Shape              Param #   \n",
            "=================================================================\n",
            " input_2 (InputLayer)        [(None, 32, 32, 3)]       0         \n",
            "                                                                 \n",
            " lambda (Lambda)             (None, 224, 224, 3)       0         \n",
            "                                                                 \n",
            " resnet50 (Functional)       (None, 1000)              25636712  \n",
            "                                                                 \n",
            " dense (Dense)               (None, 10)                10010     \n",
            "                                                                 \n",
            "=================================================================\n",
            "Total params: 25646722 (97.83 MB)\n",
            "Trainable params: 25593602 (97.63 MB)\n",
            "Non-trainable params: 53120 (207.50 KB)\n",
            "_________________________________________________________________\n",
            "Epoch 1/2\n",
            "782/782 [==============================] - 561s 664ms/step - loss: 2.2487 - accuracy: 0.7113 - val_loss: 2.2230 - val_accuracy: 0.8766\n",
            "Epoch 2/2\n",
            "782/782 [==============================] - 516s 660ms/step - loss: 2.2135 - accuracy: 0.9037 - val_loss: 2.2066 - val_accuracy: 0.9117\n",
            "Model: \"model\"\n",
            "_________________________________________________________________\n",
            " Layer (type)                Output Shape              Param #   \n",
            "=================================================================\n",
            " input_2 (InputLayer)        [(None, 32, 32, 3)]       0         \n",
            "                                                                 \n",
            " lambda (Lambda)             (None, 224, 224, 3)       0         \n",
            "                                                                 \n",
            " resnet50 (Functional)       (None, 1000)              25636712  \n",
            "                                                                 \n",
            " dense (Dense)               (None, 10)                10010     \n",
            "                                                                 \n",
            "=================================================================\n",
            "Total params: 25646722 (97.83 MB)\n",
            "Trainable params: 10010 (39.10 KB)\n",
            "Non-trainable params: 25636712 (97.80 MB)\n",
            "_________________________________________________________________\n",
            "Epoch 1/4\n",
            "782/782 [==============================] - 187s 235ms/step - loss: 1.6751 - accuracy: 0.9391 - val_loss: 1.2551 - val_accuracy: 0.9108\n",
            "Epoch 2/4\n",
            "782/782 [==============================] - 182s 233ms/step - loss: 0.9144 - accuracy: 0.9385 - val_loss: 0.7410 - val_accuracy: 0.9108\n",
            "Epoch 3/4\n",
            "782/782 [==============================] - 182s 233ms/step - loss: 0.5473 - accuracy: 0.9383 - val_loss: 0.5242 - val_accuracy: 0.9104\n",
            "Epoch 4/4\n",
            "782/782 [==============================] - 182s 233ms/step - loss: 0.3915 - accuracy: 0.9384 - val_loss: 0.4342 - val_accuracy: 0.9106\n"
          ]
        },
        {
          "output_type": "stream",
          "name": "stderr",
          "text": [
            "/usr/local/lib/python3.10/dist-packages/keras/src/engine/training.py:3103: UserWarning: You are saving your model as an HDF5 file via `model.save()`. This file format is considered legacy. We recommend using instead the native Keras format, e.g. `model.save('my_model.keras')`.\n",
            "  saving_api.save_model(\n"
          ]
        }
      ]
    },
    {
      "cell_type": "code",
      "source": [
        "  # Evaluate the model\n",
        "  test_loss, test_acc = model.evaluate(X_valid, Y_valid)\n",
        "  print(f'Test accuracy: {test_acc}')\n",
        "\n",
        "  # Calculate F1 Score\n",
        "  from sklearn.metrics import f1_score, classification_report # Import necessary functions\n",
        "  Y_pred = model.predict(X_valid)\n",
        "  Y_pred_classes = np.argmax(Y_pred, axis=1)\n",
        "  Y_true = np.argmax(Y_valid, axis=1)\n",
        "\n",
        "  f1 = f1_score(Y_true, Y_pred_classes, average='weighted')\n",
        "  print(f'F1 Score: {f1}')\n",
        "  print(classification_report(Y_true, Y_pred_classes))"
      ],
      "metadata": {
        "colab": {
          "base_uri": "https://localhost:8080/"
        },
        "id": "VazKRXgWFXkU",
        "outputId": "233fb82f-2027-4072-9b24-65def4cd0d5a"
      },
      "execution_count": 6,
      "outputs": [
        {
          "output_type": "stream",
          "name": "stdout",
          "text": [
            "313/313 [==============================] - 29s 92ms/step - loss: 0.4342 - accuracy: 0.9106\n",
            "Test accuracy: 0.9106000065803528\n",
            "313/313 [==============================] - 29s 93ms/step\n",
            "F1 Score: 0.9109227388665145\n",
            "              precision    recall  f1-score   support\n",
            "\n",
            "           0       0.89      0.94      0.91      1000\n",
            "           1       0.96      0.95      0.96      1000\n",
            "           2       0.93      0.90      0.91      1000\n",
            "           3       0.78      0.91      0.84      1000\n",
            "           4       0.89      0.93      0.91      1000\n",
            "           5       0.85      0.80      0.82      1000\n",
            "           6       0.97      0.95      0.96      1000\n",
            "           7       0.97      0.84      0.90      1000\n",
            "           8       0.94      0.96      0.95      1000\n",
            "           9       0.95      0.92      0.94      1000\n",
            "\n",
            "    accuracy                           0.91     10000\n",
            "   macro avg       0.91      0.91      0.91     10000\n",
            "weighted avg       0.91      0.91      0.91     10000\n",
            "\n"
          ]
        }
      ]
    }
  ]
}